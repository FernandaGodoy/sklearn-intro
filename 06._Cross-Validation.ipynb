{
 "metadata": {
  "celltoolbar": "Slideshow",
  "name": "",
  "signature": "sha256:f750194630c80b13075af5efe6fbed77bc3e881a55075ca9b2d5ca7ebb33aca1"
 },
 "nbformat": 3,
 "nbformat_minor": 0,
 "worksheets": [
  {
   "cells": [
    {
     "cell_type": "markdown",
     "metadata": {
      "slideshow": {
       "slide_type": "slide"
      }
     },
     "source": [
      "# Cross-validation"
     ]
    },
    {
     "cell_type": "code",
     "collapsed": false,
     "input": [
      "from sklearn.datasets import load_boston\n",
      "boston = load_boston()"
     ],
     "language": "python",
     "metadata": {
      "slideshow": {
       "slide_type": "skip"
      }
     },
     "outputs": [],
     "prompt_number": 22
    },
    {
     "cell_type": "code",
     "collapsed": false,
     "input": [
      "n = boston.data.shape[0]\n",
      "n"
     ],
     "language": "python",
     "metadata": {
      "slideshow": {
       "slide_type": "fragment"
      }
     },
     "outputs": [
      {
       "metadata": {},
       "output_type": "pyout",
       "prompt_number": 17,
       "text": [
        "506"
       ]
      }
     ],
     "prompt_number": 17
    },
    {
     "cell_type": "markdown",
     "metadata": {
      "slideshow": {
       "slide_type": "fragment"
      }
     },
     "source": [
      "Novamente vamos utilizar o n\u00famero de c\u00f4modos para prever o pre\u00e7o do im\u00f3vel:"
     ]
    },
    {
     "cell_type": "code",
     "collapsed": false,
     "input": [
      "X = boston.data[:,5].reshape(n,1)\n",
      "y = boston.target"
     ],
     "language": "python",
     "metadata": {
      "slideshow": {
       "slide_type": "fragment"
      }
     },
     "outputs": [],
     "prompt_number": 23
    },
    {
     "cell_type": "markdown",
     "metadata": {
      "slideshow": {
       "slide_type": "slide"
      }
     },
     "source": [
      "## Resampling\n",
      "\n",
      "- O ato de gerar amostras a partir do conjunto de treinamento\n",
      "- Objetivo \u00e9 gerar v\u00e1rios treinamentos diferentes e obter uma melhor estimativa do erro do classificador\n",
      "    - O erro no treinamento difere bastante do erro no conjunto de teste\n",
      "    - O erro de treinamento pode **subestimar** o erro de teste\n",
      "    - Na valida\u00e7\u00e3o cruzada (*cross-validation*) diversos conjuntos de treinamento produzem uma melhor estimativa do erro\n",
      "- Sklearn prov\u00ea utilit\u00e1rios para cross-validation"
     ]
    },
    {
     "cell_type": "markdown",
     "metadata": {
      "slideshow": {
       "slide_type": "slide"
      }
     },
     "source": [
      "### K-Folds\n",
      "\n",
      "- O conjunto de treinamento \u00e9 aleatoriamente dividido em $k$ grupos (**folds**)\n",
      "- S\u00e3o realizados $k$ treinamentos\n",
      "     - Um fold \u00e9 utilizado como conjunto de testes\n",
      "     - Os demais utilizado como conjunto de treinamento\n",
      "     - S\u00e3o produzidas $k$ valores para o MSE\n",
      "         - MSE$_1$, MSE$_2$, MSE$_k$\n",
      "     - Avalia-se o MSE *m\u00e9dio*\n",
      "     \n",
      "$\\mathrm{CV}_{(k)} = \\frac{1}{k} \\sum_1^k \\mathrm{MSE}_k$"
     ]
    },
    {
     "cell_type": "code",
     "collapsed": false,
     "input": [
      "from sklearn.linear_model import LinearRegression\n",
      "from sklearn.cross_validation import cross_val_score\n",
      "from sklearn.metrics import make_scorer, mean_squared_error\n",
      "\n",
      "mse = make_scorer(mean_squared_error)\n",
      "\n",
      "lreg = LinearRegression()\n",
      "\n",
      "mse_k = cross_val_score(lreg, X, y, cv=10, scoring=mse)"
     ],
     "language": "python",
     "metadata": {},
     "outputs": [],
     "prompt_number": 32
    },
    {
     "cell_type": "code",
     "collapsed": false,
     "input": [
      "print mse_k"
     ],
     "language": "python",
     "metadata": {
      "slideshow": {
       "slide_type": "fragment"
      }
     },
     "outputs": [
      {
       "output_type": "stream",
       "stream": "stdout",
       "text": [
        "[  15.07278041    5.17108482   10.83605923   64.0703056    18.06462415\n",
        "   36.77467542    3.87142933  210.75611934  115.59452432   19.46695711]\n"
       ]
      }
     ],
     "prompt_number": 33
    },
    {
     "cell_type": "code",
     "collapsed": false,
     "input": [
      "print mse_k.mean()"
     ],
     "language": "python",
     "metadata": {
      "slideshow": {
       "slide_type": "fragment"
      }
     },
     "outputs": [
      {
       "output_type": "stream",
       "stream": "stdout",
       "text": [
        "49.9678559729\n"
       ]
      }
     ],
     "prompt_number": 34
    }
   ],
   "metadata": {}
  }
 ]
}