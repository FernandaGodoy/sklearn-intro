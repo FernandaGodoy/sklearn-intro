{
 "metadata": {
  "celltoolbar": "Slideshow",
  "name": "",
  "signature": "sha256:df43c9ace0a541daf492aa31e0d23f7f3d875bfbbe45feaf34938359459c55ac"
 },
 "nbformat": 3,
 "nbformat_minor": 0,
 "worksheets": [
  {
   "cells": [
    {
     "cell_type": "markdown",
     "metadata": {
      "slideshow": {
       "slide_type": "slide"
      }
     },
     "source": [
      "# Regress\u00e3o"
     ]
    },
    {
     "cell_type": "markdown",
     "metadata": {
      "slideshow": {
       "slide_type": "slide"
      }
     },
     "source": [
      "## Exemplo - O problema dos pre\u00e7os de im\u00f3veis em Boston"
     ]
    },
    {
     "cell_type": "code",
     "collapsed": false,
     "input": [
      "from sklearn.datasets import load_boston\n",
      "boston = load_boston()\n",
      "print boston.DESCR"
     ],
     "language": "python",
     "metadata": {
      "slideshow": {
       "slide_type": "fragment"
      }
     },
     "outputs": [
      {
       "output_type": "stream",
       "stream": "stdout",
       "text": [
        "Boston House Prices dataset\n",
        "\n",
        "Notes\n",
        "------\n",
        "Data Set Characteristics:  \n",
        "\n",
        "    :Number of Instances: 506 \n",
        "\n",
        "    :Number of Attributes: 13 numeric/categorical predictive\n",
        "    \n",
        "    :Median Value (attribute 14) is usually the target\n",
        "\n",
        "    :Attribute Information (in order):\n",
        "        - CRIM     per capita crime rate by town\n",
        "        - ZN       proportion of residential land zoned for lots over 25,000 sq.ft.\n",
        "        - INDUS    proportion of non-retail business acres per town\n",
        "        - CHAS     Charles River dummy variable (= 1 if tract bounds river; 0 otherwise)\n",
        "        - NOX      nitric oxides concentration (parts per 10 million)\n",
        "        - RM       average number of rooms per dwelling\n",
        "        - AGE      proportion of owner-occupied units built prior to 1940\n",
        "        - DIS      weighted distances to five Boston employment centres\n",
        "        - RAD      index of accessibility to radial highways\n",
        "        - TAX      full-value property-tax rate per $10,000\n",
        "        - PTRATIO  pupil-teacher ratio by town\n",
        "        - B        1000(Bk - 0.63)^2 where Bk is the proportion of blacks by town\n",
        "        - LSTAT    % lower status of the population\n",
        "        - MEDV     Median value of owner-occupied homes in $1000's\n",
        "\n",
        "    :Missing Attribute Values: None\n",
        "\n",
        "    :Creator: Harrison, D. and Rubinfeld, D.L.\n",
        "\n",
        "This is a copy of UCI ML housing dataset.\n",
        "http://archive.ics.uci.edu/ml/datasets/Housing\n",
        "\n",
        "\n",
        "This dataset was taken from the StatLib library which is maintained at Carnegie Mellon University.\n",
        "\n",
        "The Boston house-price data of Harrison, D. and Rubinfeld, D.L. 'Hedonic\n",
        "prices and the demand for clean air', J. Environ. Economics & Management,\n",
        "vol.5, 81-102, 1978.   Used in Belsley, Kuh & Welsch, 'Regression diagnostics\n",
        "...', Wiley, 1980.   N.B. Various transformations are used in the table on\n",
        "pages 244-261 of the latter.\n",
        "\n",
        "The Boston house-price data has been used in many machine learning papers that address regression\n",
        "problems.   \n",
        "     \n",
        "**References**\n",
        "\n",
        "   - Belsley, Kuh & Welsch, 'Regression diagnostics: Identifying Influential Data and Sources of Collinearity', Wiley, 1980. 244-261.\n",
        "   - Quinlan,R. (1993). Combining Instance-Based and Model-Based Learning. In Proceedings on the Tenth International Conference of Machine Learning, 236-243, University of Massachusetts, Amherst. Morgan Kaufmann.\n",
        "   - many more! (see http://archive.ics.uci.edu/ml/datasets/Housing)\n",
        "\n"
       ]
      }
     ],
     "prompt_number": 1
    },
    {
     "cell_type": "code",
     "collapsed": false,
     "input": [
      "boston.data.shape"
     ],
     "language": "python",
     "metadata": {
      "slideshow": {
       "slide_type": "subslide"
      }
     },
     "outputs": [
      {
       "metadata": {},
       "output_type": "pyout",
       "prompt_number": 2,
       "text": [
        "(506, 13)"
       ]
      }
     ],
     "prompt_number": 2
    },
    {
     "cell_type": "code",
     "collapsed": false,
     "input": [
      "num_samples = boston.data.shape[0]\n",
      "num_samples"
     ],
     "language": "python",
     "metadata": {
      "slideshow": {
       "slide_type": "fragment"
      }
     },
     "outputs": [
      {
       "metadata": {},
       "output_type": "pyout",
       "prompt_number": 3,
       "text": [
        "506"
       ]
      }
     ],
     "prompt_number": 3
    },
    {
     "cell_type": "code",
     "collapsed": false,
     "input": [
      "boston.data[0]"
     ],
     "language": "python",
     "metadata": {
      "slideshow": {
       "slide_type": "fragment"
      }
     },
     "outputs": [
      {
       "metadata": {},
       "output_type": "pyout",
       "prompt_number": 4,
       "text": [
        "array([  6.32000000e-03,   1.80000000e+01,   2.31000000e+00,\n",
        "         0.00000000e+00,   5.38000000e-01,   6.57500000e+00,\n",
        "         6.52000000e+01,   4.09000000e+00,   1.00000000e+00,\n",
        "         2.96000000e+02,   1.53000000e+01,   3.96900000e+02,\n",
        "         4.98000000e+00])"
       ]
      }
     ],
     "prompt_number": 4
    },
    {
     "cell_type": "code",
     "collapsed": false,
     "input": [
      "boston.target.shape"
     ],
     "language": "python",
     "metadata": {
      "slideshow": {
       "slide_type": "fragment"
      }
     },
     "outputs": [
      {
       "metadata": {},
       "output_type": "pyout",
       "prompt_number": 5,
       "text": [
        "(506,)"
       ]
      }
     ],
     "prompt_number": 5
    },
    {
     "cell_type": "markdown",
     "metadata": {
      "slideshow": {
       "slide_type": "slide"
      }
     },
     "source": [
      "## Dist\u00e2ncia aos centros de emprego vs. pre\u00e7o"
     ]
    },
    {
     "cell_type": "code",
     "collapsed": false,
     "input": [
      "figsize(12,8)"
     ],
     "language": "python",
     "metadata": {
      "slideshow": {
       "slide_type": "skip"
      }
     },
     "outputs": [],
     "prompt_number": 6
    },
    {
     "cell_type": "code",
     "collapsed": false,
     "input": [
      "scatter(boston.data[:,5], boston.target)\n",
      "xlabel(u'RM (n\u00famero m\u00e9dio de c\u00f4modos)')\n",
      "ylabel(u'Valor m\u00e9dio (em US$ 1.000)')"
     ],
     "language": "python",
     "metadata": {
      "slideshow": {
       "slide_type": "fragment"
      }
     },
     "outputs": [
      {
       "metadata": {},
       "output_type": "pyout",
       "prompt_number": 7,
       "text": [
        "<matplotlib.text.Text at 0x7f8a59970a90>"
       ]
      },
      {
       "metadata": {},
       "output_type": "display_data",
       "png": "[encoded data removed]",
       "text": [
        "<matplotlib.figure.Figure at 0x7f8a68b43ad0>"
       ]
      }
     ],
     "prompt_number": 7
    },
    {
     "cell_type": "markdown",
     "metadata": {
      "slideshow": {
       "slide_type": "slide"
      }
     },
     "source": [
      "# Produzindo conjuntos de treinamento e teste"
     ]
    },
    {
     "cell_type": "code",
     "collapsed": false,
     "input": [
      "from sklearn.cross_validation import ShuffleSplit"
     ],
     "language": "python",
     "metadata": {
      "slideshow": {
       "slide_type": "fragment"
      }
     },
     "outputs": [],
     "prompt_number": 8
    },
    {
     "cell_type": "code",
     "collapsed": false,
     "input": [
      "ssplit = ShuffleSplit(num_samples, n_iter=1, test_size=0.25)"
     ],
     "language": "python",
     "metadata": {
      "slideshow": {
       "slide_type": "fragment"
      }
     },
     "outputs": [],
     "prompt_number": 9
    },
    {
     "cell_type": "code",
     "collapsed": false,
     "input": [
      "for train_idx, test_idx in ssplit:\n",
      "    pass"
     ],
     "language": "python",
     "metadata": {
      "slideshow": {
       "slide_type": "fragment"
      }
     },
     "outputs": [],
     "prompt_number": 10
    },
    {
     "cell_type": "code",
     "collapsed": false,
     "input": [
      "train_idx"
     ],
     "language": "python",
     "metadata": {
      "slideshow": {
       "slide_type": "subslide"
      }
     },
     "outputs": [
      {
       "metadata": {},
       "output_type": "pyout",
       "prompt_number": 11,
       "text": [
        "array([ 15, 362, 303, 100, 371, 389, 327,  44, 471, 274, 287,  52, 305,\n",
        "       410, 318, 230, 504, 169, 302, 189, 282, 211, 124,  39, 475, 481,\n",
        "       236,  30, 441, 454, 496, 155, 498, 505, 372,  49,  38, 117, 323,\n",
        "       386,  51, 262, 192, 113, 103, 123, 110, 417,  59, 349,   2, 220,\n",
        "       324, 258, 499,  25, 494,  23, 253, 404, 308,  19,  21, 359, 167,\n",
        "       298, 387, 411, 191,  63,  62, 447, 421, 442, 229, 135, 108, 235,\n",
        "        46,  56, 202, 128, 415, 289, 458, 140, 444, 428, 422, 381, 182,\n",
        "        76, 373, 172, 457, 166, 150, 132, 459, 337, 463, 204, 119,   3,\n",
        "       319, 143,  67, 352, 116, 495,  88, 228, 351, 254,  48, 249, 147,\n",
        "       503,  10, 353, 478, 345, 174, 398, 357, 339,  28, 433, 227, 111,\n",
        "        92, 440, 238,  85,  12, 199, 179,  41, 165, 134, 129, 177,  58,\n",
        "       270, 267, 322, 115,   0, 354, 244, 142, 106, 154, 466,  16, 137,\n",
        "       181, 401, 163,  45, 431, 291, 383, 489, 316,  33, 178, 286, 183,\n",
        "       131, 206, 271, 184, 394, 449, 355, 365, 311, 414,  36, 120, 473,\n",
        "       393, 399, 257,  40, 451,   9, 295, 151, 233, 278, 133, 336, 213,\n",
        "       460, 424, 239, 375, 112, 173, 201, 209,  66, 138,  14,  73, 197,\n",
        "       332, 397,   1, 141, 130, 148,  70, 377, 118, 122, 176, 250, 476,\n",
        "       380, 500, 180, 306, 296, 265,  11, 162, 310, 114,  75, 472, 315,\n",
        "       403,  20, 405, 136, 156, 486, 335, 292, 255,  80, 369,  96, 146,\n",
        "       231, 175, 437, 284, 341,  50, 224, 426, 453, 370, 275,   5, 264,\n",
        "       126, 186, 443,  81, 317,  84, 125, 309, 205,  90, 497, 203, 465,\n",
        "        89, 320,  22, 217, 107, 139, 358,  97, 241, 427, 487, 400, 492,\n",
        "       218, 348, 490, 269, 346,   7, 280, 430, 501, 225,   8, 196, 429,\n",
        "       456, 188, 366, 251, 402, 468,  61, 462, 419, 300, 304, 242,  74,\n",
        "       455, 388,  87, 450,  69,  94, 313,  77,  99, 364,  98,  79, 240,\n",
        "        95, 185, 145, 261, 331, 330, 368,  78, 461, 237, 432, 164, 266,\n",
        "       158, 207,  17,  27, 226, 293, 435, 436,  72, 288, 325, 273, 215,\n",
        "       413, 260,  57, 425, 491, 104, 438, 342, 452, 340, 200,  65, 159,\n",
        "       214, 420, 219, 276, 268, 326, 198, 395,  26, 152, 149, 232, 439,\n",
        "       170,  54])"
       ]
      }
     ],
     "prompt_number": 11
    },
    {
     "cell_type": "code",
     "collapsed": false,
     "input": [
      "n_train = train_idx.shape[0]\n",
      "n_train"
     ],
     "language": "python",
     "metadata": {
      "slideshow": {
       "slide_type": "fragment"
      }
     },
     "outputs": [
      {
       "metadata": {},
       "output_type": "pyout",
       "prompt_number": 12,
       "text": [
        "379"
       ]
      }
     ],
     "prompt_number": 12
    },
    {
     "cell_type": "code",
     "collapsed": false,
     "input": [
      "test_idx"
     ],
     "language": "python",
     "metadata": {
      "slideshow": {
       "slide_type": "subslide"
      }
     },
     "outputs": [
      {
       "metadata": {},
       "output_type": "pyout",
       "prompt_number": 13,
       "text": [
        "array([361, 263,  53, 407, 409, 171, 445, 391,  37, 378, 297, 418, 356,\n",
        "       367, 343, 484, 408, 406, 127, 334, 467, 256,  68, 392, 483,  31,\n",
        "         6, 344, 502, 379, 281,  24, 474, 222,  82, 246, 329, 301, 285,\n",
        "       194, 234, 109, 412, 385, 277, 221, 376, 363,  64, 396,  83, 469,\n",
        "       374, 212, 482, 312, 223, 279, 479, 382,   4, 338, 252, 290, 195,\n",
        "       477, 485, 390, 384, 283, 248, 144, 187, 157, 216, 208,  18, 210,\n",
        "       161, 347,  93, 328, 307, 423,  91, 247, 160, 153, 259, 121, 416,\n",
        "       480, 101, 493,  29, 464,  86, 321, 245, 299, 190, 102, 488,  13,\n",
        "        71,  34, 434,  35,  42, 294, 243, 470, 350,  47, 193, 314, 446,\n",
        "        32,  43, 105, 333, 448, 360,  60, 168,  55, 272])"
       ]
      }
     ],
     "prompt_number": 13
    },
    {
     "cell_type": "code",
     "collapsed": false,
     "input": [
      "n_test = test_idx.shape[0]\n",
      "n_test"
     ],
     "language": "python",
     "metadata": {
      "slideshow": {
       "slide_type": "fragment"
      }
     },
     "outputs": [
      {
       "metadata": {},
       "output_type": "pyout",
       "prompt_number": 14,
       "text": [
        "127"
       ]
      }
     ],
     "prompt_number": 14
    },
    {
     "cell_type": "code",
     "collapsed": false,
     "input": [
      "n_train + n_test"
     ],
     "language": "python",
     "metadata": {
      "slideshow": {
       "slide_type": "fragment"
      }
     },
     "outputs": [
      {
       "metadata": {},
       "output_type": "pyout",
       "prompt_number": 15,
       "text": [
        "506"
       ]
      }
     ],
     "prompt_number": 15
    },
    {
     "cell_type": "markdown",
     "metadata": {
      "slideshow": {
       "slide_type": "slide"
      }
     },
     "source": [
      "## Exemplo - regress\u00e3o utilizando apenas RM\n",
      "\n",
      "Vamos prever o pre\u00e7o dos im\u00f3veis utilizando apenas o **n\u00famero de c\u00f4modos** (RM)"
     ]
    },
    {
     "cell_type": "code",
     "collapsed": false,
     "input": [
      "X = boston.data[train_idx,5].reshape(n_train,1)\n",
      "X.shape"
     ],
     "language": "python",
     "metadata": {
      "slideshow": {
       "slide_type": "fragment"
      }
     },
     "outputs": [
      {
       "metadata": {},
       "output_type": "pyout",
       "prompt_number": 16,
       "text": [
        "(379, 1)"
       ]
      }
     ],
     "prompt_number": 16
    },
    {
     "cell_type": "code",
     "collapsed": false,
     "input": [
      "y = boston.target[train_idx]"
     ],
     "language": "python",
     "metadata": {
      "slideshow": {
       "slide_type": "fragment"
      }
     },
     "outputs": [],
     "prompt_number": 17
    },
    {
     "cell_type": "markdown",
     "metadata": {
      "slideshow": {
       "slide_type": "fragment"
      }
     },
     "source": [
      "### Treinamento\n",
      "\n",
      "Aqui, vamos utilizar a **regress\u00e3o linear**"
     ]
    },
    {
     "cell_type": "code",
     "collapsed": false,
     "input": [
      "from sklearn.linear_model import LinearRegression"
     ],
     "language": "python",
     "metadata": {
      "slideshow": {
       "slide_type": "fragment"
      }
     },
     "outputs": [],
     "prompt_number": 18
    },
    {
     "cell_type": "code",
     "collapsed": false,
     "input": [
      "regr = LinearRegression()\n",
      "\n",
      "regr.fit(X, y)"
     ],
     "language": "python",
     "metadata": {
      "slideshow": {
       "slide_type": "fragment"
      }
     },
     "outputs": [
      {
       "metadata": {},
       "output_type": "pyout",
       "prompt_number": 19,
       "text": [
        "LinearRegression(copy_X=True, fit_intercept=True, normalize=False)"
       ]
      }
     ],
     "prompt_number": 19
    },
    {
     "cell_type": "code",
     "collapsed": false,
     "input": [
      "scatter(X, y)\n",
      "plot(X, regr.predict(X))\n",
      "xlabel(u'RM (n\u00famero m\u00e9dio de c\u00f4modos)')\n",
      "xlim((3,9))\n",
      "ylabel(u'Valor m\u00e9dio (em US$ 1.000)')\n",
      "ylim((0,55))"
     ],
     "language": "python",
     "metadata": {
      "slideshow": {
       "slide_type": "subslide"
      }
     },
     "outputs": [
      {
       "metadata": {},
       "output_type": "pyout",
       "prompt_number": 20,
       "text": [
        "(0, 55)"
       ]
      },
      {
       "metadata": {},
       "output_type": "display_data",
       "png": "[encoded data removed]",
       "text": [
        "<matplotlib.figure.Figure at 0x7f8a597b2310>"
       ]
      }
     ],
     "prompt_number": 20
    },
    {
     "cell_type": "markdown",
     "metadata": {
      "slideshow": {
       "slide_type": "subslide"
      }
     },
     "source": [
      "Erro quadr\u00e1tico m\u00e9dio"
     ]
    },
    {
     "cell_type": "code",
     "collapsed": false,
     "input": [
      "mean((regr.predict(X) - y)**2)"
     ],
     "language": "python",
     "metadata": {
      "slideshow": {
       "slide_type": "fragment"
      }
     },
     "outputs": [
      {
       "metadata": {},
       "output_type": "pyout",
       "prompt_number": 21,
       "text": [
        "46.796244399594485"
       ]
      }
     ],
     "prompt_number": 21
    },
    {
     "cell_type": "markdown",
     "metadata": {
      "slideshow": {
       "slide_type": "fragment"
      }
     },
     "source": [
      "#### Score\n",
      "\n",
      "O coeficiente $R^2$ \u00e9 definido como $(1 - \\frac{u}{v})$ em que\n",
      "\n",
      "$u = \\sum_{i} (y_i - \\hat{y_i})^2$\n",
      "\n",
      "$v = \\sum_{i} (y_i - \\mu_y)^2$\n",
      "\n",
      "O melhor *score* poss\u00edvel \u00e9 1.0 e o pior poss\u00edvel 0.0"
     ]
    },
    {
     "cell_type": "code",
     "collapsed": false,
     "input": [
      "regr.score(X, y)"
     ],
     "language": "python",
     "metadata": {
      "slideshow": {
       "slide_type": "fragment"
      }
     },
     "outputs": [
      {
       "metadata": {},
       "output_type": "pyout",
       "prompt_number": 22,
       "text": [
        "0.48450411944260396"
       ]
      }
     ],
     "prompt_number": 22
    },
    {
     "cell_type": "markdown",
     "metadata": {
      "slideshow": {
       "slide_type": "slide"
      }
     },
     "source": [
      "### Teste"
     ]
    },
    {
     "cell_type": "code",
     "collapsed": false,
     "input": [
      "X_t = boston.data[test_idx,5].reshape(n_test, 1)\n",
      "y_t = boston.target[test_idx]"
     ],
     "language": "python",
     "metadata": {
      "slideshow": {
       "slide_type": "fragment"
      }
     },
     "outputs": [],
     "prompt_number": 23
    },
    {
     "cell_type": "markdown",
     "metadata": {
      "slideshow": {
       "slide_type": "fragment"
      }
     },
     "source": [
      "Erro quadr\u00e1tico m\u00e9dio"
     ]
    },
    {
     "cell_type": "code",
     "collapsed": false,
     "input": [
      "mean((regr.predict(X_t) - y_t)**2)"
     ],
     "language": "python",
     "metadata": {
      "slideshow": {
       "slide_type": "fragment"
      }
     },
     "outputs": [
      {
       "metadata": {},
       "output_type": "pyout",
       "prompt_number": 24,
       "text": [
        "34.312008286451317"
       ]
      }
     ],
     "prompt_number": 24
    },
    {
     "cell_type": "markdown",
     "metadata": {
      "slideshow": {
       "slide_type": "fragment"
      }
     },
     "source": [
      "*Score*"
     ]
    },
    {
     "cell_type": "code",
     "collapsed": false,
     "input": [
      "regr.score(X_t, y_t)"
     ],
     "language": "python",
     "metadata": {
      "slideshow": {
       "slide_type": "fragment"
      }
     },
     "outputs": [
      {
       "metadata": {},
       "output_type": "pyout",
       "prompt_number": 25,
       "text": [
        "0.47519490527319708"
       ]
      }
     ],
     "prompt_number": 25
    },
    {
     "cell_type": "code",
     "collapsed": false,
     "input": [
      "scatter(X_t, y_t)\n",
      "plot(X_t, regr.predict(X_t))\n",
      "xlabel(u'RM (n\u00famero m\u00e9dio de c\u00f4modos)')\n",
      "xlim((3,9))\n",
      "ylabel(u'Valor m\u00e9dio (em US$ 1.000)')\n",
      "ylim((0,55))"
     ],
     "language": "python",
     "metadata": {
      "slideshow": {
       "slide_type": "subslide"
      }
     },
     "outputs": [
      {
       "metadata": {},
       "output_type": "pyout",
       "prompt_number": 26,
       "text": [
        "(0, 55)"
       ]
      },
      {
       "metadata": {},
       "output_type": "display_data",
       "png": "[encoded data removed]",
       "text": [
        "<matplotlib.figure.Figure at 0x7f8a597238d0>"
       ]
      }
     ],
     "prompt_number": 26
    },
    {
     "cell_type": "code",
     "collapsed": false,
     "input": [
      "scatter(X, y, c='b', marker='o')\n",
      "scatter(X_t, y_t, c='r', marker='s')\n",
      "plot(X, regr.predict(X))\n",
      "plot(X_t, regr.predict(X_t), 'r-')\n",
      "xlabel(u'RM (n\u00famero m\u00e9dio de c\u00f4modos)')\n",
      "xlim((3,9))\n",
      "ylabel(u'Valor m\u00e9dio (em US$ 1.000)')\n",
      "ylim((0,55))"
     ],
     "language": "python",
     "metadata": {
      "slideshow": {
       "slide_type": "subslide"
      }
     },
     "outputs": [
      {
       "metadata": {},
       "output_type": "pyout",
       "prompt_number": 27,
       "text": [
        "(0, 55)"
       ]
      },
      {
       "metadata": {},
       "output_type": "display_data",
       "png": "[encoded data removed]",
       "text": [
        "<matplotlib.figure.Figure at 0x7f8a51710290>"
       ]
      }
     ],
     "prompt_number": 27
    },
    {
     "cell_type": "markdown",
     "metadata": {
      "slideshow": {
       "slide_type": "slide"
      }
     },
     "source": [
      "## Exemplo - regress\u00e3o utilizando todas as dimens\u00f5es"
     ]
    },
    {
     "cell_type": "markdown",
     "metadata": {
      "slideshow": {
       "slide_type": "fragment"
      }
     },
     "source": [
      "### Treinamento"
     ]
    },
    {
     "cell_type": "code",
     "collapsed": false,
     "input": [
      "regr = LinearRegression()\n",
      "X = boston.data[train_idx]\n",
      "y = boston.target[train_idx]\n",
      "regr.fit(X, y)"
     ],
     "language": "python",
     "metadata": {
      "slideshow": {
       "slide_type": "fragment"
      }
     },
     "outputs": [
      {
       "metadata": {},
       "output_type": "pyout",
       "prompt_number": 28,
       "text": [
        "LinearRegression(copy_X=True, fit_intercept=True, normalize=False)"
       ]
      }
     ],
     "prompt_number": 28
    },
    {
     "cell_type": "markdown",
     "metadata": {
      "slideshow": {
       "slide_type": "fragment"
      }
     },
     "source": [
      "Erro quadr\u00e1tico m\u00e9dio"
     ]
    },
    {
     "cell_type": "code",
     "collapsed": false,
     "input": [
      "mean((regr.predict(X) - y)**2)"
     ],
     "language": "python",
     "metadata": {
      "slideshow": {
       "slide_type": "fragment"
      }
     },
     "outputs": [
      {
       "metadata": {},
       "output_type": "pyout",
       "prompt_number": 29,
       "text": [
        "22.91041859376821"
       ]
      }
     ],
     "prompt_number": 29
    },
    {
     "cell_type": "markdown",
     "metadata": {
      "slideshow": {
       "slide_type": "fragment"
      }
     },
     "source": [
      "*Score*"
     ]
    },
    {
     "cell_type": "code",
     "collapsed": false,
     "input": [
      "regr.score(X, y)"
     ],
     "language": "python",
     "metadata": {
      "slideshow": {
       "slide_type": "fragment"
      }
     },
     "outputs": [
      {
       "metadata": {},
       "output_type": "pyout",
       "prompt_number": 30,
       "text": [
        "0.74762448229637368"
       ]
      }
     ],
     "prompt_number": 30
    },
    {
     "cell_type": "markdown",
     "metadata": {
      "slideshow": {
       "slide_type": "subslide"
      }
     },
     "source": [
      "### Teste"
     ]
    },
    {
     "cell_type": "markdown",
     "metadata": {
      "slideshow": {
       "slide_type": "fragment"
      }
     },
     "source": [
      "Erro quadr\u00e1tico m\u00e9dio"
     ]
    },
    {
     "cell_type": "code",
     "collapsed": false,
     "input": [
      "X_t = boston.data[test_idx]\n",
      "y_t = boston.target[test_idx]\n",
      "mean((regr.predict(X_t) - y_t)**2)"
     ],
     "language": "python",
     "metadata": {
      "slideshow": {
       "slide_type": "fragment"
      }
     },
     "outputs": [
      {
       "metadata": {},
       "output_type": "pyout",
       "prompt_number": 31,
       "text": [
        "19.870238886388343"
       ]
      }
     ],
     "prompt_number": 31
    },
    {
     "cell_type": "markdown",
     "metadata": {
      "slideshow": {
       "slide_type": "fragment"
      }
     },
     "source": [
      "*Score*"
     ]
    },
    {
     "cell_type": "code",
     "collapsed": false,
     "input": [
      "regr.score(X_t, y_t)"
     ],
     "language": "python",
     "metadata": {
      "slideshow": {
       "slide_type": "fragment"
      }
     },
     "outputs": [
      {
       "metadata": {},
       "output_type": "pyout",
       "prompt_number": 32,
       "text": [
        "0.69608300062305262"
       ]
      }
     ],
     "prompt_number": 32
    },
    {
     "cell_type": "markdown",
     "metadata": {
      "slideshow": {
       "slide_type": "slide"
      }
     },
     "source": [
      "## Exerc\u00edcio\n",
      "\n",
      "### A base de dados sobre diabetes\n",
      "\n",
      "Dez vari\u00e1veis idade, sexo, \u00edndice de massa corporal, press\u00e3o arterial m\u00e9dia e seis medi\u00e7\u00f5es sangu\u00edneas de $n = 442$ pacientes com **diabetes**. \n",
      "\n",
      "Medida quantitativa de interesse: **\u00edndice de progress\u00e3o da doen\u00e7a ap\u00f3s 1 ano**"
     ]
    },
    {
     "cell_type": "code",
     "collapsed": false,
     "input": [
      "from sklearn.datasets import load_diabetes\n",
      "diabetes = load_diabetes()"
     ],
     "language": "python",
     "metadata": {
      "slideshow": {
       "slide_type": "fragment"
      }
     },
     "outputs": [],
     "prompt_number": 33
    },
    {
     "cell_type": "markdown",
     "metadata": {
      "slideshow": {
       "slide_type": "fragment"
      }
     },
     "source": [
      "### Exerc\u00edcio\n",
      "\n",
      "Realizar regress\u00e3o para prever o \u00edndice de progress\u00e3o da doen\u00e7a a partir das 10 vari\u00e1vies"
     ]
    },
    {
     "cell_type": "markdown",
     "metadata": {
      "slideshow": {
       "slide_type": "subslide"
      }
     },
     "source": [
      "### Solu\u00e7\u00e3o"
     ]
    },
    {
     "cell_type": "code",
     "collapsed": false,
     "input": [
      "num_samples = diabetes.data.shape[0]\n",
      "num_samples"
     ],
     "language": "python",
     "metadata": {
      "slideshow": {
       "slide_type": "fragment"
      }
     },
     "outputs": [
      {
       "metadata": {},
       "output_type": "pyout",
       "prompt_number": 34,
       "text": [
        "442"
       ]
      }
     ],
     "prompt_number": 34
    },
    {
     "cell_type": "code",
     "collapsed": false,
     "input": [
      "ssplit = ShuffleSplit(num_samples, n_iter=1, test_size=0.25)"
     ],
     "language": "python",
     "metadata": {
      "slideshow": {
       "slide_type": "fragment"
      }
     },
     "outputs": [],
     "prompt_number": 35
    },
    {
     "cell_type": "code",
     "collapsed": false,
     "input": [
      "for train_idx, test_idx in ssplit:\n",
      "    pass"
     ],
     "language": "python",
     "metadata": {
      "slideshow": {
       "slide_type": "fragment"
      }
     },
     "outputs": [],
     "prompt_number": 36
    },
    {
     "cell_type": "code",
     "collapsed": false,
     "input": [
      "train_idx"
     ],
     "language": "python",
     "metadata": {
      "slideshow": {
       "slide_type": "subslide"
      }
     },
     "outputs": [
      {
       "metadata": {},
       "output_type": "pyout",
       "prompt_number": 37,
       "text": [
        "array([ 88, 325, 273, 279, 104, 146, 403,  48, 331, 401, 329, 381, 191,\n",
        "         4,  80, 101, 202,  47,  93, 422, 278, 321, 298,  38, 197, 174,\n",
        "       286, 225, 149, 404, 129, 272,  91,  39, 190, 166,  36, 239, 398,\n",
        "        17, 209,  82,  54, 409,  97, 318, 378, 419, 154, 208,  96, 275,\n",
        "       441, 355, 372, 284, 171,  22,  19, 315,  55,   6, 192, 258,  42,\n",
        "        52, 289,  30, 291, 268,   1, 428, 185, 218, 200, 241, 326, 130,\n",
        "       345, 319, 238, 250, 227, 211, 353, 263, 232, 430, 314, 281, 138,\n",
        "        77, 344,  67, 396, 357, 100, 170,  63,   2, 413, 342,  49,   0,\n",
        "       231, 254, 386, 150, 245, 244, 237, 135, 358, 307, 145, 434, 407,\n",
        "       248, 352, 420,  79, 399,  94, 242, 178, 277, 303, 123,  85, 113,\n",
        "       297,  87,  16, 346, 433, 229, 310, 293, 195, 205, 379, 371, 167,\n",
        "       259, 194,  44,  46, 189, 156, 251, 230, 287, 429, 269,  31,  78,\n",
        "        21,   9,  81,  98,  26, 305, 240, 290,  59, 157, 369, 196, 158,\n",
        "       410, 349, 347,  72, 252, 122, 366, 356, 341, 221, 306, 423, 116,\n",
        "       115, 343, 440,  23, 338, 246, 391, 380, 118, 300,   3,  15, 400,\n",
        "       132, 181, 322,  99, 389, 106, 323, 282, 226, 177, 110,  27, 262,\n",
        "       186, 164,  64, 188,  56, 224,  90, 324, 382, 361, 212, 376, 128,\n",
        "        50, 213, 183, 274, 161,  20,  83, 141, 421, 437, 333, 288, 395,\n",
        "       152, 412, 162,   5, 313, 351, 133, 105, 438,  74, 121, 108, 163,\n",
        "       142, 387,  45, 139, 173, 111, 117,  62, 109,  75, 266,  34, 214,\n",
        "       223, 260, 439, 264, 426, 408, 112, 144, 165, 172,  29, 406, 204,\n",
        "        71, 370, 126, 417, 255, 362, 270, 257, 402, 393, 125, 120,  10,\n",
        "       160, 431,  89, 360, 193, 187, 219, 153, 309,  61,  40,  43, 102,\n",
        "        35, 168, 228, 182, 367,  92, 243, 363, 179, 103, 432, 340, 312,\n",
        "       137, 124, 397, 236, 151, 184, 140, 424, 203, 261,  60,  12, 114,\n",
        "       247,  65,   8, 416, 234, 392])"
       ]
      }
     ],
     "prompt_number": 37
    },
    {
     "cell_type": "code",
     "collapsed": false,
     "input": [
      "test_idx"
     ],
     "language": "python",
     "metadata": {
      "slideshow": {
       "slide_type": "subslide"
      }
     },
     "outputs": [
      {
       "metadata": {},
       "output_type": "pyout",
       "prompt_number": 38,
       "text": [
        "array([267, 155, 332, 143, 334,  37, 276, 285, 180, 339,  25, 253, 235,\n",
        "        41, 256, 350,  11, 427, 368, 336, 365, 216, 308, 377, 220, 296,\n",
        "       107, 316, 418, 384, 411, 292, 385, 280,  68, 394, 294, 374, 233,\n",
        "       302, 176, 359, 364,  13,  58, 169, 175, 425,  28,  53, 301, 199,\n",
        "       119,  57,  84,  14,  70, 383, 136, 330,   7,  24,  76,  95, 436,\n",
        "       348, 271, 354, 222, 311, 388, 415, 304, 249, 335,  18, 206, 295,\n",
        "       217, 435, 127, 373, 131, 147, 265, 283, 210, 320,  73, 327, 215,\n",
        "       207, 299, 414,  66, 134, 148,  32, 198,  69,  51, 337, 375, 328,\n",
        "        33, 390, 405, 317,  86, 159, 201])"
       ]
      }
     ],
     "prompt_number": 38
    },
    {
     "cell_type": "code",
     "collapsed": false,
     "input": [
      "regr = LinearRegression()\n",
      "X = diabetes.data[train_idx]\n",
      "y = diabetes.target[train_idx]\n",
      "regr.fit(X, y)"
     ],
     "language": "python",
     "metadata": {
      "slideshow": {
       "slide_type": "subslide"
      }
     },
     "outputs": [
      {
       "metadata": {},
       "output_type": "pyout",
       "prompt_number": 39,
       "text": [
        "LinearRegression(copy_X=True, fit_intercept=True, normalize=False)"
       ]
      }
     ],
     "prompt_number": 39
    },
    {
     "cell_type": "markdown",
     "metadata": {
      "slideshow": {
       "slide_type": "fragment"
      }
     },
     "source": [
      "Erro quadr\u00e1tico m\u00e9dio"
     ]
    },
    {
     "cell_type": "code",
     "collapsed": false,
     "input": [
      "mean((regr.predict(X) - y)**2)"
     ],
     "language": "python",
     "metadata": {
      "slideshow": {
       "slide_type": "fragment"
      }
     },
     "outputs": [
      {
       "metadata": {},
       "output_type": "pyout",
       "prompt_number": 40,
       "text": [
        "2854.5161687412092"
       ]
      }
     ],
     "prompt_number": 40
    },
    {
     "cell_type": "code",
     "collapsed": false,
     "input": [
      "X_t = diabetes.data[test_idx]\n",
      "y_t = diabetes.target[test_idx]\n",
      "mean((regr.predict(X_t) - y_t)**2)"
     ],
     "language": "python",
     "metadata": {
      "slideshow": {
       "slide_type": "fragment"
      }
     },
     "outputs": [
      {
       "metadata": {},
       "output_type": "pyout",
       "prompt_number": 41,
       "text": [
        "2957.3328332580109"
       ]
      }
     ],
     "prompt_number": 41
    },
    {
     "cell_type": "code",
     "collapsed": false,
     "input": [
      "regr.score(X_t, y_t)"
     ],
     "language": "python",
     "metadata": {
      "slideshow": {
       "slide_type": "fragment"
      }
     },
     "outputs": [
      {
       "metadata": {},
       "output_type": "pyout",
       "prompt_number": 42,
       "text": [
        "0.49383612489744777"
       ]
      }
     ],
     "prompt_number": 42
    },
    {
     "cell_type": "markdown",
     "metadata": {
      "slideshow": {
       "slide_type": "slide"
      }
     },
     "source": [
      "## Lasso \n",
      "\n",
      "- Lasso \u00e9 capaz de produzir **modelos esparsos**\n",
      "    - Modelos que usam um **subconjunto** das vari\u00e1veis\n",
      "- O ideia \u00e9 reduzir os coeficientes de algumas vari\u00e1veis **zero**\n",
      "- Modelos Lasso s\u00e3o assim mais f\u00e1ceis de interpretar\n",
      "- Pode ser entendido como uma aplica\u00e7\u00e3o da **faca de Occam**\n",
      "    - *Prefira modelos mais **simples** *"
     ]
    },
    {
     "cell_type": "code",
     "collapsed": false,
     "input": [
      "ssplit = ShuffleSplit(num_samples, n_iter=1, test_size=0.25)\n",
      "\n",
      "for train_idx, test_idx in ssplit:\n",
      "    pass\n",
      "\n",
      "X = boston.data[train_idx]\n",
      "y = boston.target[train_idx]\n",
      "\n",
      "X_t = boston.data[test_idx]\n",
      "y_t = boston.target[test_idx]"
     ],
     "language": "python",
     "metadata": {
      "slideshow": {
       "slide_type": "subslide"
      }
     },
     "outputs": [],
     "prompt_number": 132
    },
    {
     "cell_type": "code",
     "collapsed": false,
     "input": [
      "from sklearn.linear_model import Lasso"
     ],
     "language": "python",
     "metadata": {
      "slideshow": {
       "slide_type": "subslide"
      }
     },
     "outputs": [],
     "prompt_number": 133
    },
    {
     "cell_type": "code",
     "collapsed": false,
     "input": [
      "lasso_regr = Lasso()\n",
      "lasso_regr.set_params(alpha=0.001)\n",
      "lasso_regr.fit(X, y)"
     ],
     "language": "python",
     "metadata": {
      "slideshow": {
       "slide_type": "fragment"
      }
     },
     "outputs": [
      {
       "metadata": {},
       "output_type": "pyout",
       "prompt_number": 134,
       "text": [
        "Lasso(alpha=0.001, copy_X=True, fit_intercept=True, max_iter=1000,\n",
        "   normalize=False, positive=False, precompute='auto', tol=0.0001,\n",
        "   warm_start=False)"
       ]
      }
     ],
     "prompt_number": 134
    },
    {
     "cell_type": "code",
     "collapsed": false,
     "input": [
      "lasso_regr.score(X_t, y_t)"
     ],
     "language": "python",
     "metadata": {
      "slideshow": {
       "slide_type": "fragment"
      }
     },
     "outputs": [
      {
       "metadata": {},
       "output_type": "pyout",
       "prompt_number": 135,
       "text": [
        "0.7053705432249564"
       ]
      }
     ],
     "prompt_number": 135
    },
    {
     "cell_type": "code",
     "collapsed": false,
     "input": [
      "boston_vars = ['CRIM (per capita crime rate by town)',\n",
      "            'ZN (proportion of residential land zoned for lots over 25,000 sq.ft.)',\n",
      "            'INDUS (proportion of non-retail business acres per town)',\n",
      "            'CHAS (Charles River dummy variable, = 1 if tract bounds river; 0 otherwise)',\n",
      "            'NOX     nitric oxides concentration (parts per 10 million)',\n",
      "            'RM  (average number of rooms per dwelling)',\n",
      "            'AGE (proportion of owner-occupied units built prior to 1940)',\n",
      "            'DIS (weighted distances to five Boston employment centres)',\n",
      "            'RAD (index of accessibility to radial highways)',\n",
      "            'TAX (full-value property-tax rate per $10,000)',\n",
      "            'PTRATIO (pupil-teacher ratio by town)',\n",
      "            'B (1000(Bk - 0.63)^2 where Bk is the proportion of blacks by town)',\n",
      "            'LSTAT (lower status of the population)']"
     ],
     "language": "python",
     "metadata": {
      "slideshow": {
       "slide_type": "skip"
      }
     },
     "outputs": [],
     "prompt_number": 136
    },
    {
     "cell_type": "code",
     "collapsed": false,
     "input": [
      "for descr, coefficient in zip(boston_vars, lasso_regr.coef_):\n",
      "    print \"%.3f\\t%s\" % (coefficient, descr)"
     ],
     "language": "python",
     "metadata": {
      "slideshow": {
       "slide_type": "subslide"
      }
     },
     "outputs": [
      {
       "output_type": "stream",
       "stream": "stdout",
       "text": [
        "-0.107\tCRIM (per capita crime rate by town)\n",
        "0.061\tZN (proportion of residential land zoned for lots over 25,000 sq.ft.)\n",
        "0.051\tINDUS (proportion of non-retail business acres per town)\n",
        "2.754\tCHAS (Charles River dummy variable, = 1 if tract bounds river; 0 otherwise)\n",
        "-17.696\tNOX     nitric oxides concentration (parts per 10 million)\n",
        "3.505\tRM  (average number of rooms per dwelling)\n",
        "0.032\tAGE (proportion of owner-occupied units built prior to 1940)\n",
        "-1.401\tDIS (weighted distances to five Boston employment centres)\n",
        "0.432\tRAD (index of accessibility to radial highways)\n",
        "-0.016\tTAX (full-value property-tax rate per $10,000)\n",
        "-0.883\tPTRATIO (pupil-teacher ratio by town)\n",
        "0.010\tB (1000(Bk - 0.63)^2 where Bk is the proportion of blacks by town)\n",
        "-0.668\tLSTAT (lower status of the population)\n"
       ]
      }
     ],
     "prompt_number": 137
    }
   ],
   "metadata": {}
  }
 ]
}